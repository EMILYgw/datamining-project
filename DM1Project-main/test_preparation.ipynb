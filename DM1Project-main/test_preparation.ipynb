{
 "cells": [
  {
   "cell_type": "markdown",
   "id": "0736a0d4-77ab-4b98-90a1-e5d67e903f3d",
   "metadata": {},
   "source": [
    "<h1>TEST SET: Preparation</h1>"
   ]
  },
  {
   "cell_type": "code",
   "execution_count": 28,
   "id": "7152fb8b-f5fd-40ac-a337-ba56662e3c4a",
   "metadata": {},
   "outputs": [],
   "source": [
    "import pandas as pd\n",
    "import matplotlib.pyplot as plt\n",
    "import numpy as np\n",
    "import seaborn as sns\n",
    "from scipy.stats import skew, kurtosis\n",
    "from sklearn.preprocessing import StandardScaler"
   ]
  },
  {
   "cell_type": "code",
   "execution_count": 29,
   "id": "ba72e664-3130-44c8-a9aa-454548f93aa0",
   "metadata": {},
   "outputs": [],
   "source": [
    "data = pd.read_csv('dm1_dataset_2425_imdb/test.csv',  skipinitialspace=True)"
   ]
  },
  {
   "cell_type": "code",
   "execution_count": 30,
   "id": "22b4f946-7008-454a-a270-e65115314efc",
   "metadata": {},
   "outputs": [
    {
     "data": {
      "text/html": [
       "<div>\n",
       "<style scoped>\n",
       "    .dataframe tbody tr th:only-of-type {\n",
       "        vertical-align: middle;\n",
       "    }\n",
       "\n",
       "    .dataframe tbody tr th {\n",
       "        vertical-align: top;\n",
       "    }\n",
       "\n",
       "    .dataframe thead th {\n",
       "        text-align: right;\n",
       "    }\n",
       "</style>\n",
       "<table border=\"1\" class=\"dataframe\">\n",
       "  <thead>\n",
       "    <tr style=\"text-align: right;\">\n",
       "      <th></th>\n",
       "      <th>originalTitle</th>\n",
       "      <th>rating</th>\n",
       "      <th>startYear</th>\n",
       "      <th>endYear</th>\n",
       "      <th>runtimeMinutes</th>\n",
       "      <th>awardWins</th>\n",
       "      <th>numVotes</th>\n",
       "      <th>worstRating</th>\n",
       "      <th>bestRating</th>\n",
       "      <th>totalImages</th>\n",
       "      <th>...</th>\n",
       "      <th>titleType</th>\n",
       "      <th>awardNominationsExcludeWins</th>\n",
       "      <th>canHaveEpisodes</th>\n",
       "      <th>isRatable</th>\n",
       "      <th>isAdult</th>\n",
       "      <th>numRegions</th>\n",
       "      <th>userReviewsTotal</th>\n",
       "      <th>ratingCount</th>\n",
       "      <th>countryOfOrigin</th>\n",
       "      <th>genres</th>\n",
       "    </tr>\n",
       "  </thead>\n",
       "  <tbody>\n",
       "    <tr>\n",
       "      <th>0</th>\n",
       "      <td>Geologist of Animal Collective Performs Live a...</td>\n",
       "      <td>(9, 10]</td>\n",
       "      <td>2015</td>\n",
       "      <td>\\N</td>\n",
       "      <td>21</td>\n",
       "      <td>0.0</td>\n",
       "      <td>15</td>\n",
       "      <td>1</td>\n",
       "      <td>10</td>\n",
       "      <td>7</td>\n",
       "      <td>...</td>\n",
       "      <td>video</td>\n",
       "      <td>0</td>\n",
       "      <td>False</td>\n",
       "      <td>True</td>\n",
       "      <td>0</td>\n",
       "      <td>1</td>\n",
       "      <td>0</td>\n",
       "      <td>15</td>\n",
       "      <td>['US']</td>\n",
       "      <td>Music,Short</td>\n",
       "    </tr>\n",
       "    <tr>\n",
       "      <th>1</th>\n",
       "      <td>Shan gou 1999</td>\n",
       "      <td>(4, 5]</td>\n",
       "      <td>1999</td>\n",
       "      <td>\\N</td>\n",
       "      <td>\\N</td>\n",
       "      <td>0.0</td>\n",
       "      <td>304</td>\n",
       "      <td>1</td>\n",
       "      <td>10</td>\n",
       "      <td>10</td>\n",
       "      <td>...</td>\n",
       "      <td>movie</td>\n",
       "      <td>0</td>\n",
       "      <td>False</td>\n",
       "      <td>True</td>\n",
       "      <td>0</td>\n",
       "      <td>4</td>\n",
       "      <td>8</td>\n",
       "      <td>304</td>\n",
       "      <td>['HK']</td>\n",
       "      <td>Horror</td>\n",
       "    </tr>\n",
       "    <tr>\n",
       "      <th>2</th>\n",
       "      <td>The Craftsman: Preserving the Last Higgins Boat</td>\n",
       "      <td>(8, 9]</td>\n",
       "      <td>2023</td>\n",
       "      <td>\\N</td>\n",
       "      <td>\\N</td>\n",
       "      <td>0.0</td>\n",
       "      <td>10</td>\n",
       "      <td>1</td>\n",
       "      <td>10</td>\n",
       "      <td>2</td>\n",
       "      <td>...</td>\n",
       "      <td>tvSpecial</td>\n",
       "      <td>0</td>\n",
       "      <td>False</td>\n",
       "      <td>True</td>\n",
       "      <td>0</td>\n",
       "      <td>1</td>\n",
       "      <td>0</td>\n",
       "      <td>10</td>\n",
       "      <td>['US']</td>\n",
       "      <td>Reality-TV</td>\n",
       "    </tr>\n",
       "    <tr>\n",
       "      <th>3</th>\n",
       "      <td>Week 3: Tuesday</td>\n",
       "      <td>(6, 7]</td>\n",
       "      <td>2020</td>\n",
       "      <td>\\N</td>\n",
       "      <td>\\N</td>\n",
       "      <td>0.0</td>\n",
       "      <td>11</td>\n",
       "      <td>1</td>\n",
       "      <td>10</td>\n",
       "      <td>0</td>\n",
       "      <td>...</td>\n",
       "      <td>tvEpisode</td>\n",
       "      <td>0</td>\n",
       "      <td>False</td>\n",
       "      <td>True</td>\n",
       "      <td>0</td>\n",
       "      <td>1</td>\n",
       "      <td>0</td>\n",
       "      <td>11</td>\n",
       "      <td>['GB']</td>\n",
       "      <td>Game-Show</td>\n",
       "    </tr>\n",
       "    <tr>\n",
       "      <th>4</th>\n",
       "      <td>Traumhaus</td>\n",
       "      <td>(5, 6]</td>\n",
       "      <td>1999</td>\n",
       "      <td>\\N</td>\n",
       "      <td>90</td>\n",
       "      <td>NaN</td>\n",
       "      <td>145</td>\n",
       "      <td>1</td>\n",
       "      <td>10</td>\n",
       "      <td>2</td>\n",
       "      <td>...</td>\n",
       "      <td>tvEpisode</td>\n",
       "      <td>0</td>\n",
       "      <td>False</td>\n",
       "      <td>True</td>\n",
       "      <td>0</td>\n",
       "      <td>1</td>\n",
       "      <td>0</td>\n",
       "      <td>145</td>\n",
       "      <td>['DE']</td>\n",
       "      <td>Crime,Drama,Mystery</td>\n",
       "    </tr>\n",
       "  </tbody>\n",
       "</table>\n",
       "<p>5 rows × 23 columns</p>\n",
       "</div>"
      ],
      "text/plain": [
       "                                       originalTitle   rating  startYear  \\\n",
       "0  Geologist of Animal Collective Performs Live a...  (9, 10]       2015   \n",
       "1                                      Shan gou 1999   (4, 5]       1999   \n",
       "2    The Craftsman: Preserving the Last Higgins Boat   (8, 9]       2023   \n",
       "3                                    Week 3: Tuesday   (6, 7]       2020   \n",
       "4                                          Traumhaus   (5, 6]       1999   \n",
       "\n",
       "  endYear runtimeMinutes  awardWins  numVotes  worstRating  bestRating  \\\n",
       "0      \\N             21        0.0        15            1          10   \n",
       "1      \\N             \\N        0.0       304            1          10   \n",
       "2      \\N             \\N        0.0        10            1          10   \n",
       "3      \\N             \\N        0.0        11            1          10   \n",
       "4      \\N             90        NaN       145            1          10   \n",
       "\n",
       "   totalImages  ...  titleType  awardNominationsExcludeWins  canHaveEpisodes  \\\n",
       "0            7  ...      video                            0            False   \n",
       "1           10  ...      movie                            0            False   \n",
       "2            2  ...  tvSpecial                            0            False   \n",
       "3            0  ...  tvEpisode                            0            False   \n",
       "4            2  ...  tvEpisode                            0            False   \n",
       "\n",
       "  isRatable  isAdult  numRegions  userReviewsTotal  ratingCount  \\\n",
       "0      True        0           1                 0           15   \n",
       "1      True        0           4                 8          304   \n",
       "2      True        0           1                 0           10   \n",
       "3      True        0           1                 0           11   \n",
       "4      True        0           1                 0          145   \n",
       "\n",
       "   countryOfOrigin               genres  \n",
       "0           ['US']          Music,Short  \n",
       "1           ['HK']               Horror  \n",
       "2           ['US']           Reality-TV  \n",
       "3           ['GB']            Game-Show  \n",
       "4           ['DE']  Crime,Drama,Mystery  \n",
       "\n",
       "[5 rows x 23 columns]"
      ]
     },
     "execution_count": 30,
     "metadata": {},
     "output_type": "execute_result"
    }
   ],
   "source": [
    "data.head()"
   ]
  },
  {
   "cell_type": "code",
   "execution_count": 31,
   "id": "5f01adb8-a9af-4a65-a8a7-8ee3e58bde67",
   "metadata": {},
   "outputs": [
    {
     "name": "stdout",
     "output_type": "stream",
     "text": [
      "<class 'pandas.core.frame.DataFrame'>\n",
      "RangeIndex: 5478 entries, 0 to 5477\n",
      "Data columns (total 23 columns):\n",
      " #   Column                       Non-Null Count  Dtype  \n",
      "---  ------                       --------------  -----  \n",
      " 0   originalTitle                5478 non-null   object \n",
      " 1   rating                       5478 non-null   object \n",
      " 2   startYear                    5478 non-null   int64  \n",
      " 3   endYear                      5478 non-null   object \n",
      " 4   runtimeMinutes               5478 non-null   object \n",
      " 5   awardWins                    4591 non-null   float64\n",
      " 6   numVotes                     5478 non-null   int64  \n",
      " 7   worstRating                  5478 non-null   int64  \n",
      " 8   bestRating                   5478 non-null   int64  \n",
      " 9   totalImages                  5478 non-null   int64  \n",
      " 10  totalVideos                  5478 non-null   int64  \n",
      " 11  totalCredits                 5478 non-null   int64  \n",
      " 12  criticReviewsTotal           5478 non-null   int64  \n",
      " 13  titleType                    5478 non-null   object \n",
      " 14  awardNominationsExcludeWins  5478 non-null   int64  \n",
      " 15  canHaveEpisodes              5478 non-null   bool   \n",
      " 16  isRatable                    5478 non-null   bool   \n",
      " 17  isAdult                      5478 non-null   int64  \n",
      " 18  numRegions                   5478 non-null   int64  \n",
      " 19  userReviewsTotal             5478 non-null   int64  \n",
      " 20  ratingCount                  5478 non-null   int64  \n",
      " 21  countryOfOrigin              5478 non-null   object \n",
      " 22  genres                       5478 non-null   object \n",
      "dtypes: bool(2), float64(1), int64(13), object(7)\n",
      "memory usage: 909.6+ KB\n"
     ]
    }
   ],
   "source": [
    "data.info()"
   ]
  },
  {
   "cell_type": "code",
   "execution_count": 32,
   "id": "b75eb7b6-d30b-4353-9629-b46da7e92b46",
   "metadata": {},
   "outputs": [],
   "source": [
    "df = data.copy()"
   ]
  },
  {
   "cell_type": "markdown",
   "id": "28696852-f45f-446f-b9b5-3e06fe27a4b0",
   "metadata": {},
   "source": [
    "<h2> VALORI NULLI </h2>"
   ]
  },
  {
   "cell_type": "code",
   "execution_count": 33,
   "id": "fe0277ef-4077-497b-ac3c-c4fc76582d7a",
   "metadata": {},
   "outputs": [],
   "source": [
    "df.replace('\\\\N', np.nan, inplace=True)"
   ]
  },
  {
   "cell_type": "code",
   "execution_count": 34,
   "id": "b96b6eea-322b-40b0-a345-25d2244bf3c1",
   "metadata": {},
   "outputs": [],
   "source": [
    "df.replace(\"\", np.nan, inplace=True)"
   ]
  },
  {
   "cell_type": "code",
   "execution_count": 35,
   "id": "fefb745e-2d44-41be-8c20-037b42a78404",
   "metadata": {},
   "outputs": [
    {
     "data": {
      "text/plain": [
       "originalTitle                  False\n",
       "rating                         False\n",
       "startYear                      False\n",
       "endYear                         True\n",
       "runtimeMinutes                  True\n",
       "awardWins                       True\n",
       "numVotes                       False\n",
       "worstRating                    False\n",
       "bestRating                     False\n",
       "totalImages                    False\n",
       "totalVideos                    False\n",
       "totalCredits                   False\n",
       "criticReviewsTotal             False\n",
       "titleType                      False\n",
       "awardNominationsExcludeWins    False\n",
       "canHaveEpisodes                False\n",
       "isRatable                      False\n",
       "isAdult                        False\n",
       "numRegions                     False\n",
       "userReviewsTotal               False\n",
       "ratingCount                    False\n",
       "countryOfOrigin                False\n",
       "genres                          True\n",
       "dtype: bool"
      ]
     },
     "execution_count": 35,
     "metadata": {},
     "output_type": "execute_result"
    }
   ],
   "source": [
    "df.isnull().any()"
   ]
  },
  {
   "cell_type": "code",
   "execution_count": 36,
   "id": "8282e555-b295-4ea7-81b0-080917d1412d",
   "metadata": {},
   "outputs": [
    {
     "name": "stdout",
     "output_type": "stream",
     "text": [
      "originalTitle                     0\n",
      "rating                            0\n",
      "startYear                         0\n",
      "endYear                        5205\n",
      "runtimeMinutes                 1660\n",
      "awardWins                       887\n",
      "numVotes                          0\n",
      "worstRating                       0\n",
      "bestRating                        0\n",
      "totalImages                       0\n",
      "totalVideos                       0\n",
      "totalCredits                      0\n",
      "criticReviewsTotal                0\n",
      "titleType                         0\n",
      "awardNominationsExcludeWins       0\n",
      "canHaveEpisodes                   0\n",
      "isRatable                         0\n",
      "isAdult                           0\n",
      "numRegions                        0\n",
      "userReviewsTotal                  0\n",
      "ratingCount                       0\n",
      "countryOfOrigin                   0\n",
      "genres                          121\n",
      "dtype: int64\n"
     ]
    }
   ],
   "source": [
    "print(df.isnull().sum())"
   ]
  },
  {
   "cell_type": "markdown",
   "id": "c659d071-a924-468d-a930-51ea5e4459f8",
   "metadata": {},
   "source": [
    "- endYear da cancellare come nel train\n",
    "- runtimeMinutes da sostituire con la mediana come fatto nel train\n",
    "- awardWins con ?? mi pare con 0 o 1 il più frequente controllo\n",
    "- genres da sostituire con la moda come nel train"
   ]
  },
  {
   "cell_type": "code",
   "execution_count": 37,
   "id": "e58a330c-3554-41be-9aab-81967164b2d1",
   "metadata": {},
   "outputs": [],
   "source": [
    "#Sostituzione valori nulli per runtimeMinutes\n",
    "df['runtimeMinutes'] = pd.to_numeric(df['runtimeMinutes'], errors='coerce')\n",
    "\n",
    "# Ora calcola la mediana della colonna 'runtimeMinutes'\n",
    "median_runtime = df['runtimeMinutes'].median()\n",
    "\n",
    "# Sostituisci i valori NaN con la mediana\n",
    "df['runtimeMinutes'] = df['runtimeMinutes'].fillna(median_runtime)"
   ]
  },
  {
   "cell_type": "code",
   "execution_count": 38,
   "id": "5ffe39c8-6f5c-4d85-9607-ae3190df7233",
   "metadata": {},
   "outputs": [
    {
     "data": {
      "text/plain": [
       "awardWins\n",
       "0.0      4021\n",
       "1.0       255\n",
       "2.0       100\n",
       "3.0        64\n",
       "4.0        35\n",
       "5.0        29\n",
       "8.0        16\n",
       "6.0        15\n",
       "7.0         8\n",
       "12.0        7\n",
       "9.0         7\n",
       "14.0        5\n",
       "13.0        4\n",
       "10.0        3\n",
       "17.0        2\n",
       "15.0        2\n",
       "11.0        2\n",
       "16.0        2\n",
       "31.0        1\n",
       "30.0        1\n",
       "254.0       1\n",
       "19.0        1\n",
       "20.0        1\n",
       "23.0        1\n",
       "44.0        1\n",
       "38.0        1\n",
       "37.0        1\n",
       "33.0        1\n",
       "22.0        1\n",
       "25.0        1\n",
       "83.0        1\n",
       "36.0        1\n",
       "Name: count, dtype: int64"
      ]
     },
     "execution_count": 38,
     "metadata": {},
     "output_type": "execute_result"
    }
   ],
   "source": [
    "df['awardWins'].value_counts()\n",
    "\n",
    "#Sostituisco i valori con 0 perchè valore più frequente"
   ]
  },
  {
   "cell_type": "code",
   "execution_count": 39,
   "id": "1eb50fcb-eb08-4cf3-aa7f-c6709d830c8d",
   "metadata": {},
   "outputs": [],
   "source": [
    "# Sostituire i valori NaN nella colonna 'awardWins' con 0\n",
    "df['awardWins'] = df['awardWins'].fillna(0)"
   ]
  },
  {
   "cell_type": "code",
   "execution_count": 40,
   "id": "8eab9a9d-20c8-4fc6-ae65-6679afc44e4a",
   "metadata": {},
   "outputs": [
    {
     "data": {
      "text/plain": [
       "0    Comedy\n",
       "Name: genres, dtype: object"
      ]
     },
     "execution_count": 40,
     "metadata": {},
     "output_type": "execute_result"
    }
   ],
   "source": [
    "#controllo moda di genres \n",
    "df['genres'].mode()"
   ]
  },
  {
   "cell_type": "code",
   "execution_count": 41,
   "id": "509b5b5c-255b-4d3e-9553-ad16944594e7",
   "metadata": {},
   "outputs": [],
   "source": [
    "#sostituisco genres con la moda\n",
    "mode_genre = df['genres'].mode()[0]\n",
    "df['genres'] = df['genres'].fillna(mode_genre)"
   ]
  },
  {
   "cell_type": "code",
   "execution_count": 42,
   "id": "6fd578d0-ca23-416e-822a-2ea4b8da2749",
   "metadata": {},
   "outputs": [],
   "source": [
    "#elimino endYear\n",
    "#Cancellare endYear\n",
    "df.drop('endYear', axis=1, inplace=True)"
   ]
  },
  {
   "cell_type": "code",
   "execution_count": 43,
   "id": "4f7806bb-aeb9-43a0-af39-9d244b2d9eca",
   "metadata": {},
   "outputs": [
    {
     "name": "stdout",
     "output_type": "stream",
     "text": [
      "originalTitle                  0\n",
      "rating                         0\n",
      "startYear                      0\n",
      "runtimeMinutes                 0\n",
      "awardWins                      0\n",
      "numVotes                       0\n",
      "worstRating                    0\n",
      "bestRating                     0\n",
      "totalImages                    0\n",
      "totalVideos                    0\n",
      "totalCredits                   0\n",
      "criticReviewsTotal             0\n",
      "titleType                      0\n",
      "awardNominationsExcludeWins    0\n",
      "canHaveEpisodes                0\n",
      "isRatable                      0\n",
      "isAdult                        0\n",
      "numRegions                     0\n",
      "userReviewsTotal               0\n",
      "ratingCount                    0\n",
      "countryOfOrigin                0\n",
      "genres                         0\n",
      "dtype: int64\n"
     ]
    }
   ],
   "source": [
    "#ricontrollo i valori Nan\n",
    "print(df.isnull().sum())"
   ]
  },
  {
   "cell_type": "markdown",
   "id": "5d944ad2-1d3b-41b7-86d9-a2f637f8e167",
   "metadata": {},
   "source": [
    "<h2>ALTRE VARIABILI DA ELIMINARE</h2>"
   ]
  },
  {
   "cell_type": "markdown",
   "id": "362cfc8d-13d2-4714-80f4-33ec6223d570",
   "metadata": {},
   "source": [
    "Come per il train, cancello le colonne:\n",
    "- originalTitle\n",
    "- numVotes\n",
    "- worstRating\n",
    "- bestRating\n",
    "- isRatable"
   ]
  },
  {
   "cell_type": "code",
   "execution_count": 44,
   "id": "ea5e848e-866f-4407-b712-e42e12d81fb1",
   "metadata": {},
   "outputs": [],
   "source": [
    "df.drop('numVotes', axis=1, inplace=True)\n",
    "df.drop('originalTitle', axis=1, inplace=True)\n",
    "df.drop('worstRating', axis=1, inplace=True)\n",
    "df.drop('bestRating', axis=1, inplace=True)\n",
    "df.drop('isRatable', axis=1, inplace=True)"
   ]
  },
  {
   "cell_type": "code",
   "execution_count": 45,
   "id": "b9c95391-db8f-46a0-bd8d-48dc7ad8232c",
   "metadata": {},
   "outputs": [
    {
     "name": "stdout",
     "output_type": "stream",
     "text": [
      "<class 'pandas.core.frame.DataFrame'>\n",
      "RangeIndex: 5478 entries, 0 to 5477\n",
      "Data columns (total 17 columns):\n",
      " #   Column                       Non-Null Count  Dtype  \n",
      "---  ------                       --------------  -----  \n",
      " 0   rating                       5478 non-null   object \n",
      " 1   startYear                    5478 non-null   int64  \n",
      " 2   runtimeMinutes               5478 non-null   float64\n",
      " 3   awardWins                    5478 non-null   float64\n",
      " 4   totalImages                  5478 non-null   int64  \n",
      " 5   totalVideos                  5478 non-null   int64  \n",
      " 6   totalCredits                 5478 non-null   int64  \n",
      " 7   criticReviewsTotal           5478 non-null   int64  \n",
      " 8   titleType                    5478 non-null   object \n",
      " 9   awardNominationsExcludeWins  5478 non-null   int64  \n",
      " 10  canHaveEpisodes              5478 non-null   bool   \n",
      " 11  isAdult                      5478 non-null   int64  \n",
      " 12  numRegions                   5478 non-null   int64  \n",
      " 13  userReviewsTotal             5478 non-null   int64  \n",
      " 14  ratingCount                  5478 non-null   int64  \n",
      " 15  countryOfOrigin              5478 non-null   object \n",
      " 16  genres                       5478 non-null   object \n",
      "dtypes: bool(1), float64(2), int64(10), object(4)\n",
      "memory usage: 690.2+ KB\n"
     ]
    }
   ],
   "source": [
    "df.info()"
   ]
  },
  {
   "cell_type": "markdown",
   "id": "2b772cb7-72e8-4350-a53c-e732c87762f3",
   "metadata": {},
   "source": [
    "<h2>OUTLIER</h2>"
   ]
  },
  {
   "cell_type": "code",
   "execution_count": 48,
   "id": "5995e888-298f-4138-b998-f991cea0ad29",
   "metadata": {},
   "outputs": [
    {
     "data": {
      "image/png": "[encoded data removed]",
      "text/plain": [
       "<Figure size 1500x1000 with 12 Axes>"
      ]
     },
     "metadata": {},
     "output_type": "display_data"
    }
   ],
   "source": [
    "# Lista delle colonne per cui vogliamo fare il boxplot\n",
    "columns = ['startYear', 'awardNominationsExcludeWins', 'userReviewsTotal', 'totalCredits', \n",
    "           'criticReviewsTotal', 'totalVideos', 'awardWins', 'runtimeMinutes', 'totalImages', \n",
    "           'ratingCount', 'numRegions']\n",
    "\n",
    "# Numero di colonne e righe per il layout del subplot\n",
    "n_cols = 3\n",
    "n_rows = (len(columns) // n_cols) + (1 if len(columns) % n_cols else 0)\n",
    "\n",
    "# Creazione della figura e degli assi per i subplot\n",
    "fig, axes = plt.subplots(n_rows, n_cols, figsize=(15, 10))\n",
    "\n",
    "# Piattaforma per gli assi, appiattendo l'array se necessario\n",
    "axes = axes.flatten()\n",
    "\n",
    "# Creazione dei boxplot per ogni colonna\n",
    "for i, column in enumerate(columns):\n",
    "    sns.boxplot(x=df[column], ax=axes[i])\n",
    "    axes[i].set_title(f'Boxplot: {column}')\n",
    "    axes[i].set_xlabel(column)\n",
    "    axes[i].set_ylabel('Value')\n",
    "\n",
    "# Se ci sono subplot vuoti (caso in cui il numero di colonne non è un multiplo di 3), nascondiamo l'asse\n",
    "for j in range(i + 1, len(axes)):\n",
    "    axes[j].axis('off')\n",
    "\n",
    "# Ottimizzazione della disposizione\n",
    "plt.tight_layout()\n",
    "plt.show()"
   ]
  },
  {
   "cell_type": "code",
   "execution_count": 50,
   "id": "e7b0779a-197b-4536-86ca-95849bfcb675",
   "metadata": {},
   "outputs": [],
   "source": [
    "#ELIMINAZIONE SOLO DEGLI OUTLIER ESTREMI\n",
    "\n",
    "df = df[df['runtimeMinutes'] <= 600]\n",
    "df = df[df['awardNominationsExcludeWins'] <= 50]\n",
    "df = df[df['userReviewsTotal'] <= 1400]\n",
    "df = df[df['totalCredits'] <= 1600]\n",
    "df = df[df['criticReviewsTotal'] <= 350]\n",
    "df = df[df['totalVideos'] <= 39]\n",
    "df = df[df['awardWins'] <= 50]\n",
    "df = df[df['totalImages'] <= 1000]\n"
   ]
  },
  {
   "cell_type": "code",
   "execution_count": 51,
   "id": "50196556-f7d2-45ea-9830-b44f120214a0",
   "metadata": {},
   "outputs": [
    {
     "name": "stdout",
     "output_type": "stream",
     "text": [
      "<class 'pandas.core.frame.DataFrame'>\n",
      "Index: 5460 entries, 0 to 5477\n",
      "Data columns (total 17 columns):\n",
      " #   Column                       Non-Null Count  Dtype  \n",
      "---  ------                       --------------  -----  \n",
      " 0   rating                       5460 non-null   object \n",
      " 1   startYear                    5460 non-null   int64  \n",
      " 2   runtimeMinutes               5460 non-null   float64\n",
      " 3   awardWins                    5460 non-null   float64\n",
      " 4   totalImages                  5460 non-null   int64  \n",
      " 5   totalVideos                  5460 non-null   int64  \n",
      " 6   totalCredits                 5460 non-null   int64  \n",
      " 7   criticReviewsTotal           5460 non-null   int64  \n",
      " 8   titleType                    5460 non-null   object \n",
      " 9   awardNominationsExcludeWins  5460 non-null   int64  \n",
      " 10  canHaveEpisodes              5460 non-null   bool   \n",
      " 11  isAdult                      5460 non-null   int64  \n",
      " 12  numRegions                   5460 non-null   int64  \n",
      " 13  userReviewsTotal             5460 non-null   int64  \n",
      " 14  ratingCount                  5460 non-null   int64  \n",
      " 15  countryOfOrigin              5460 non-null   object \n",
      " 16  genres                       5460 non-null   object \n",
      "dtypes: bool(1), float64(2), int64(10), object(4)\n",
      "memory usage: 730.5+ KB\n"
     ]
    }
   ],
   "source": [
    "df.info()"
   ]
  },
  {
   "cell_type": "code",
   "execution_count": null,
   "id": "5beb466a-e77f-4ae2-92d0-ae610c52902d",
   "metadata": {},
   "outputs": [],
   "source": []
  }
 ],
 "metadata": {
  "kernelspec": {
   "display_name": "Python 3 (ipykernel)",
   "language": "python",
   "name": "python3"
  },
  "language_info": {
   "codemirror_mode": {
    "name": "ipython",
    "version": 3
   },
   "file_extension": ".py",
   "mimetype": "text/x-python",
   "name": "python",
   "nbconvert_exporter": "python",
   "pygments_lexer": "ipython3",
   "version": "3.11.5"
  }
 },
 "nbformat": 4,
 "nbformat_minor": 5
}
